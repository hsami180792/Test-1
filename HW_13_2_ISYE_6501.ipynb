{
  "nbformat": 4,
  "nbformat_minor": 0,
  "metadata": {
    "colab": {
      "provenance": []
    },
    "kernelspec": {
      "name": "python3",
      "display_name": "Python 3"
    },
    "language_info": {
      "name": "python"
    }
  },
  "cells": [
    {
      "cell_type": "code",
      "execution_count": 1,
      "metadata": {
        "colab": {
          "base_uri": "https://localhost:8080/"
        },
        "id": "Xhjc9M_ipEmU",
        "outputId": "fd957027-2a64-4066-d322-020edadc193b"
      },
      "outputs": [
        {
          "output_type": "stream",
          "name": "stdout",
          "text": [
            "Collecting simpy\n",
            "  Downloading simpy-4.1.1-py3-none-any.whl (27 kB)\n",
            "Installing collected packages: simpy\n",
            "Successfully installed simpy-4.1.1\n"
          ]
        }
      ],
      "source": [
        "!pip install simpy"
      ]
    },
    {
      "cell_type": "code",
      "source": [
        "import simpy\n",
        "import random\n",
        "import statistics"
      ],
      "metadata": {
        "id": "TQFl0DZjpT1-"
      },
      "execution_count": 2,
      "outputs": []
    },
    {
      "cell_type": "code",
      "source": [
        "!pip install Airport"
      ],
      "metadata": {
        "colab": {
          "base_uri": "https://localhost:8080/"
        },
        "id": "CVn9OASU2FF1",
        "outputId": "eb5882d8-4073-49e6-dd3a-b22dd0ec33ba"
      },
      "execution_count": 3,
      "outputs": [
        {
          "output_type": "stream",
          "name": "stdout",
          "text": [
            "Collecting Airport\n",
            "  Downloading airport-0.0.1.tar.gz (684 bytes)\n",
            "  Preparing metadata (setup.py) ... \u001b[?25l\u001b[?25hdone\n",
            "Building wheels for collected packages: Airport\n",
            "  Building wheel for Airport (setup.py) ... \u001b[?25l\u001b[?25hdone\n",
            "  Created wheel for Airport: filename=airport-0.0.1-py3-none-any.whl size=1002 sha256=05569eda2e3d614d9cd54e2b46720fc421f2cec6c7470bc0319cf0717a2186a1\n",
            "  Stored in directory: /root/.cache/pip/wheels/b4/9a/af/07c7950ad2809a07dc008bf3cb1fb4bfe4be91b597addeaf27\n",
            "Successfully built Airport\n",
            "Installing collected packages: Airport\n",
            "Successfully installed Airport-0.0.1\n"
          ]
        }
      ]
    },
    {
      "cell_type": "code",
      "source": [
        "wait_times = []\n",
        "airport_total_times = []\n",
        "check_total_times = []\n",
        "\n",
        "class Airport(object):\n",
        "    def __init__(self, env, num_checkers, num_personal_queue):\n",
        "        self.env = env\n",
        "        self.id_queue = simpy.Resource(env, num_checkers)\n",
        "        self.personal_queue = [simpy.Resource(env, 1) for _ in range(num_personal_queue)]\n",
        "\n",
        "    def id_queue_up(self, passenger):\n",
        "        yield self.env.timeout(random.expovariate(1.0 / 0.75))\n",
        "\n",
        "    def personal_queue_up(self, passenger):\n",
        "        yield self.env.timeout(random.uniform(0.5, 1.0))\n",
        "\n",
        "def enter_airport(env, passenger, airport):\n",
        "    arrive_time = env.now\n",
        "\n",
        "    with airport.id_queue.request() as request:\n",
        "        yield request\n",
        "        start_id_queue_time = env.now\n",
        "        yield env.process(airport.id_queue_up(passenger))\n",
        "        end_id_queue_time = env.now\n",
        "        id_queue_time = end_id_queue_time - start_id_queue_time\n",
        "\n",
        "    personal_queue_lens = [len(queue.queue) for queue in airport.personal_queue]\n",
        "    shortest_queue_index = personal_queue_lens.index(min(personal_queue_lens))\n",
        "\n",
        "    with airport.personal_queue[shortest_queue_index].request() as request:\n",
        "        yield request\n",
        "        start_personal_queue_time = env.now\n",
        "        yield env.process(airport.personal_queue_up(passenger))\n",
        "        end_personal_queue_time = env.now\n",
        "        personal_queue_time = end_personal_queue_time - start_personal_queue_time\n",
        "        queue_total_time = id_queue_time + personal_queue_time\n",
        "        check_total_times.append(queue_total_time)\n",
        "\n",
        "    leave_time = env.now\n",
        "    total_time = leave_time - arrive_time\n",
        "    airport_total_times.append(total_time)\n",
        "    current_waiting_time = total_time - id_queue_time - personal_queue_time\n",
        "    wait_times.append(current_waiting_time)\n",
        "\n",
        "def run_airport(env, num_checkers, num_personal_queue):\n",
        "    airport = Airport(env, num_checkers, num_personal_queue)\n",
        "    for passenger in range(50):\n",
        "        env.process(enter_airport(env, passenger, airport))\n",
        "\n",
        "    while True:\n",
        "        yield env.timeout(random.expovariate(50))\n",
        "        passenger += 1\n",
        "        env.process(enter_airport(env, passenger, airport))\n",
        "\n",
        "def calc_wait_times(in_wait_times, in_check_times, in_total_times):\n",
        "    average_wait_times = statistics.mean(in_wait_times)\n",
        "    average_check_times = statistics.mean(in_check_times)\n",
        "    average_airport_times = statistics.mean(in_total_times)\n",
        "    return average_wait_times, average_check_times, average_airport_times"
      ],
      "metadata": {
        "id": "pOtv5c-XpLn1"
      },
      "execution_count": 11,
      "outputs": []
    },
    {
      "cell_type": "code",
      "source": [
        "def main(num_checkers, num_personal_queue, num_reps):\n",
        "  for rep in range(num_reps):\n",
        "    random.seed(99)\n",
        "    env = simpy.Environment()\n",
        "    env.process(run_airport(env, num_checkers, num_personal_queue))\n",
        "    env.run(until = 60 * 8)\n",
        "\n",
        "    average_time_min, avg_c_time, avg_t_time = calc_wait_times(wait_times, check_total_times, airport_total_times)\n",
        "    print(f\"for {num_checkers} ID checkers, {num_personal_queue} personal queues and {num_reps} repetitions: \")\n",
        "    print(f\"===============================================\")\n",
        "    print(f\"avg_total_time = {avg_t_time:.3f}\\n\"\n",
        "          f\"avg_check_time (both ID check and personal check) = {avg_c_time:.3f}\\n\"\n",
        "          f\"avg_wait_time = {average_time_min:.3f}\\n\")\n",
        "    wait_times.clear()\n",
        "    airport_total_times.clear()\n",
        "    check_total_times.clear()\n",
        "\n",
        "    return num_checkers, average_time_min\n",
        "\n",
        "results_list = []\n",
        "results_list.append(main(22, 22, 30))"
      ],
      "metadata": {
        "colab": {
          "base_uri": "https://localhost:8080/"
        },
        "id": "ljz2W2UL4tO9",
        "outputId": "e45c4011-112b-4148-9e3e-a4d24503e930"
      },
      "execution_count": 22,
      "outputs": [
        {
          "output_type": "stream",
          "name": "stdout",
          "text": [
            "for 22 ID checkers, 22 personal queues and 30 repetitions: \n",
            "===============================================\n",
            "avg_total_time = 106.493\n",
            "avg_check_time (both ID check and personal check) = 1.494\n",
            "avg_wait_time = 104.999\n",
            "\n"
          ]
        }
      ]
    },
    {
      "cell_type": "code",
      "source": [
        "results_list.append(main(18, 18, 30))"
      ],
      "metadata": {
        "colab": {
          "base_uri": "https://localhost:8080/"
        },
        "id": "Di5ykPpN7RT9",
        "outputId": "1c85bf5f-960c-4ef4-ba34-9763da73288f"
      },
      "execution_count": 23,
      "outputs": [
        {
          "output_type": "stream",
          "name": "stdout",
          "text": [
            "for 18 ID checkers, 18 personal queues and 30 repetitions: \n",
            "===============================================\n",
            "avg_total_time = 131.734\n",
            "avg_check_time (both ID check and personal check) = 1.499\n",
            "avg_wait_time = 130.235\n",
            "\n"
          ]
        }
      ]
    },
    {
      "cell_type": "code",
      "source": [
        "results_list.append(main(25, 25, 30))"
      ],
      "metadata": {
        "colab": {
          "base_uri": "https://localhost:8080/"
        },
        "id": "On1Ky6Wp7_wc",
        "outputId": "2f686e0f-f10f-4160-cf7a-421385af643c"
      },
      "execution_count": 24,
      "outputs": [
        {
          "output_type": "stream",
          "name": "stdout",
          "text": [
            "for 25 ID checkers, 25 personal queues and 30 repetitions: \n",
            "===============================================\n",
            "avg_total_time = 86.969\n",
            "avg_check_time (both ID check and personal check) = 1.502\n",
            "avg_wait_time = 85.467\n",
            "\n"
          ]
        }
      ]
    },
    {
      "cell_type": "code",
      "source": [
        "results_list.append(main(28, 28, 30))"
      ],
      "metadata": {
        "colab": {
          "base_uri": "https://localhost:8080/"
        },
        "id": "ORCyPufR8FLk",
        "outputId": "d76354bf-8b36-4e52-9da0-5796f3fd7dee"
      },
      "execution_count": 25,
      "outputs": [
        {
          "output_type": "stream",
          "name": "stdout",
          "text": [
            "for 28 ID checkers, 28 personal queues and 30 repetitions: \n",
            "===============================================\n",
            "avg_total_time = 62.790\n",
            "avg_check_time (both ID check and personal check) = 1.492\n",
            "avg_wait_time = 61.298\n",
            "\n"
          ]
        }
      ]
    },
    {
      "cell_type": "code",
      "source": [
        "results_list.append(main(31, 31, 30))"
      ],
      "metadata": {
        "colab": {
          "base_uri": "https://localhost:8080/"
        },
        "id": "-W9zC4ml8H2s",
        "outputId": "9e074720-ed80-42ad-8150-1d85a2d8dc07"
      },
      "execution_count": 26,
      "outputs": [
        {
          "output_type": "stream",
          "name": "stdout",
          "text": [
            "for 31 ID checkers, 31 personal queues and 30 repetitions: \n",
            "===============================================\n",
            "avg_total_time = 45.293\n",
            "avg_check_time (both ID check and personal check) = 1.493\n",
            "avg_wait_time = 43.800\n",
            "\n"
          ]
        }
      ]
    },
    {
      "cell_type": "code",
      "source": [
        "results_list.append(main(34, 34, 30))"
      ],
      "metadata": {
        "colab": {
          "base_uri": "https://localhost:8080/"
        },
        "id": "Yji5Evji8LWk",
        "outputId": "0695c898-28d3-4285-c354-0ece938c04e1"
      },
      "execution_count": 27,
      "outputs": [
        {
          "output_type": "stream",
          "name": "stdout",
          "text": [
            "for 34 ID checkers, 34 personal queues and 30 repetitions: \n",
            "===============================================\n",
            "avg_total_time = 23.741\n",
            "avg_check_time (both ID check and personal check) = 1.490\n",
            "avg_wait_time = 22.251\n",
            "\n"
          ]
        }
      ]
    },
    {
      "cell_type": "code",
      "source": [
        "import plotly.express as px\n",
        "import pandas as pd"
      ],
      "metadata": {
        "id": "CwcF_3J_8U6N"
      },
      "execution_count": 28,
      "outputs": []
    },
    {
      "cell_type": "code",
      "source": [
        "results_df = pd.DataFrame(results_list, columns=['num_checkers', 'avg_wait_time'])"
      ],
      "metadata": {
        "id": "KrruyNvn8aoj"
      },
      "execution_count": 29,
      "outputs": []
    },
    {
      "cell_type": "code",
      "source": [
        "results_df"
      ],
      "metadata": {
        "colab": {
          "base_uri": "https://localhost:8080/",
          "height": 237
        },
        "id": "kgFT2DCl8hHU",
        "outputId": "daf154c3-2aae-4db9-bdf6-71f427b12bf7"
      },
      "execution_count": 30,
      "outputs": [
        {
          "output_type": "execute_result",
          "data": {
            "text/plain": [
              "   num_checkers  avg_wait_time\n",
              "0            22     104.999158\n",
              "1            18     130.235406\n",
              "2            25      85.467217\n",
              "3            28      61.298480\n",
              "4            31      43.800175\n",
              "5            34      22.250906"
            ],
            "text/html": [
              "\n",
              "  <div id=\"df-5cb5e2ec-b243-47e9-9779-b89ec5921504\" class=\"colab-df-container\">\n",
              "    <div>\n",
              "<style scoped>\n",
              "    .dataframe tbody tr th:only-of-type {\n",
              "        vertical-align: middle;\n",
              "    }\n",
              "\n",
              "    .dataframe tbody tr th {\n",
              "        vertical-align: top;\n",
              "    }\n",
              "\n",
              "    .dataframe thead th {\n",
              "        text-align: right;\n",
              "    }\n",
              "</style>\n",
              "<table border=\"1\" class=\"dataframe\">\n",
              "  <thead>\n",
              "    <tr style=\"text-align: right;\">\n",
              "      <th></th>\n",
              "      <th>num_checkers</th>\n",
              "      <th>avg_wait_time</th>\n",
              "    </tr>\n",
              "  </thead>\n",
              "  <tbody>\n",
              "    <tr>\n",
              "      <th>0</th>\n",
              "      <td>22</td>\n",
              "      <td>104.999158</td>\n",
              "    </tr>\n",
              "    <tr>\n",
              "      <th>1</th>\n",
              "      <td>18</td>\n",
              "      <td>130.235406</td>\n",
              "    </tr>\n",
              "    <tr>\n",
              "      <th>2</th>\n",
              "      <td>25</td>\n",
              "      <td>85.467217</td>\n",
              "    </tr>\n",
              "    <tr>\n",
              "      <th>3</th>\n",
              "      <td>28</td>\n",
              "      <td>61.298480</td>\n",
              "    </tr>\n",
              "    <tr>\n",
              "      <th>4</th>\n",
              "      <td>31</td>\n",
              "      <td>43.800175</td>\n",
              "    </tr>\n",
              "    <tr>\n",
              "      <th>5</th>\n",
              "      <td>34</td>\n",
              "      <td>22.250906</td>\n",
              "    </tr>\n",
              "  </tbody>\n",
              "</table>\n",
              "</div>\n",
              "    <div class=\"colab-df-buttons\">\n",
              "\n",
              "  <div class=\"colab-df-container\">\n",
              "    <button class=\"colab-df-convert\" onclick=\"convertToInteractive('df-5cb5e2ec-b243-47e9-9779-b89ec5921504')\"\n",
              "            title=\"Convert this dataframe to an interactive table.\"\n",
              "            style=\"display:none;\">\n",
              "\n",
              "  <svg xmlns=\"http://www.w3.org/2000/svg\" height=\"24px\" viewBox=\"0 -960 960 960\">\n",
              "    <path d=\"M120-120v-720h720v720H120Zm60-500h600v-160H180v160Zm220 220h160v-160H400v160Zm0 220h160v-160H400v160ZM180-400h160v-160H180v160Zm440 0h160v-160H620v160ZM180-180h160v-160H180v160Zm440 0h160v-160H620v160Z\"/>\n",
              "  </svg>\n",
              "    </button>\n",
              "\n",
              "  <style>\n",
              "    .colab-df-container {\n",
              "      display:flex;\n",
              "      gap: 12px;\n",
              "    }\n",
              "\n",
              "    .colab-df-convert {\n",
              "      background-color: #E8F0FE;\n",
              "      border: none;\n",
              "      border-radius: 50%;\n",
              "      cursor: pointer;\n",
              "      display: none;\n",
              "      fill: #1967D2;\n",
              "      height: 32px;\n",
              "      padding: 0 0 0 0;\n",
              "      width: 32px;\n",
              "    }\n",
              "\n",
              "    .colab-df-convert:hover {\n",
              "      background-color: #E2EBFA;\n",
              "      box-shadow: 0px 1px 2px rgba(60, 64, 67, 0.3), 0px 1px 3px 1px rgba(60, 64, 67, 0.15);\n",
              "      fill: #174EA6;\n",
              "    }\n",
              "\n",
              "    .colab-df-buttons div {\n",
              "      margin-bottom: 4px;\n",
              "    }\n",
              "\n",
              "    [theme=dark] .colab-df-convert {\n",
              "      background-color: #3B4455;\n",
              "      fill: #D2E3FC;\n",
              "    }\n",
              "\n",
              "    [theme=dark] .colab-df-convert:hover {\n",
              "      background-color: #434B5C;\n",
              "      box-shadow: 0px 1px 3px 1px rgba(0, 0, 0, 0.15);\n",
              "      filter: drop-shadow(0px 1px 2px rgba(0, 0, 0, 0.3));\n",
              "      fill: #FFFFFF;\n",
              "    }\n",
              "  </style>\n",
              "\n",
              "    <script>\n",
              "      const buttonEl =\n",
              "        document.querySelector('#df-5cb5e2ec-b243-47e9-9779-b89ec5921504 button.colab-df-convert');\n",
              "      buttonEl.style.display =\n",
              "        google.colab.kernel.accessAllowed ? 'block' : 'none';\n",
              "\n",
              "      async function convertToInteractive(key) {\n",
              "        const element = document.querySelector('#df-5cb5e2ec-b243-47e9-9779-b89ec5921504');\n",
              "        const dataTable =\n",
              "          await google.colab.kernel.invokeFunction('convertToInteractive',\n",
              "                                                    [key], {});\n",
              "        if (!dataTable) return;\n",
              "\n",
              "        const docLinkHtml = 'Like what you see? Visit the ' +\n",
              "          '<a target=\"_blank\" href=https://colab.research.google.com/notebooks/data_table.ipynb>data table notebook</a>'\n",
              "          + ' to learn more about interactive tables.';\n",
              "        element.innerHTML = '';\n",
              "        dataTable['output_type'] = 'display_data';\n",
              "        await google.colab.output.renderOutput(dataTable, element);\n",
              "        const docLink = document.createElement('div');\n",
              "        docLink.innerHTML = docLinkHtml;\n",
              "        element.appendChild(docLink);\n",
              "      }\n",
              "    </script>\n",
              "  </div>\n",
              "\n",
              "\n",
              "<div id=\"df-97e4bd5e-b436-44de-b693-d253df3be4ea\">\n",
              "  <button class=\"colab-df-quickchart\" onclick=\"quickchart('df-97e4bd5e-b436-44de-b693-d253df3be4ea')\"\n",
              "            title=\"Suggest charts\"\n",
              "            style=\"display:none;\">\n",
              "\n",
              "<svg xmlns=\"http://www.w3.org/2000/svg\" height=\"24px\"viewBox=\"0 0 24 24\"\n",
              "     width=\"24px\">\n",
              "    <g>\n",
              "        <path d=\"M19 3H5c-1.1 0-2 .9-2 2v14c0 1.1.9 2 2 2h14c1.1 0 2-.9 2-2V5c0-1.1-.9-2-2-2zM9 17H7v-7h2v7zm4 0h-2V7h2v10zm4 0h-2v-4h2v4z\"/>\n",
              "    </g>\n",
              "</svg>\n",
              "  </button>\n",
              "\n",
              "<style>\n",
              "  .colab-df-quickchart {\n",
              "      --bg-color: #E8F0FE;\n",
              "      --fill-color: #1967D2;\n",
              "      --hover-bg-color: #E2EBFA;\n",
              "      --hover-fill-color: #174EA6;\n",
              "      --disabled-fill-color: #AAA;\n",
              "      --disabled-bg-color: #DDD;\n",
              "  }\n",
              "\n",
              "  [theme=dark] .colab-df-quickchart {\n",
              "      --bg-color: #3B4455;\n",
              "      --fill-color: #D2E3FC;\n",
              "      --hover-bg-color: #434B5C;\n",
              "      --hover-fill-color: #FFFFFF;\n",
              "      --disabled-bg-color: #3B4455;\n",
              "      --disabled-fill-color: #666;\n",
              "  }\n",
              "\n",
              "  .colab-df-quickchart {\n",
              "    background-color: var(--bg-color);\n",
              "    border: none;\n",
              "    border-radius: 50%;\n",
              "    cursor: pointer;\n",
              "    display: none;\n",
              "    fill: var(--fill-color);\n",
              "    height: 32px;\n",
              "    padding: 0;\n",
              "    width: 32px;\n",
              "  }\n",
              "\n",
              "  .colab-df-quickchart:hover {\n",
              "    background-color: var(--hover-bg-color);\n",
              "    box-shadow: 0 1px 2px rgba(60, 64, 67, 0.3), 0 1px 3px 1px rgba(60, 64, 67, 0.15);\n",
              "    fill: var(--button-hover-fill-color);\n",
              "  }\n",
              "\n",
              "  .colab-df-quickchart-complete:disabled,\n",
              "  .colab-df-quickchart-complete:disabled:hover {\n",
              "    background-color: var(--disabled-bg-color);\n",
              "    fill: var(--disabled-fill-color);\n",
              "    box-shadow: none;\n",
              "  }\n",
              "\n",
              "  .colab-df-spinner {\n",
              "    border: 2px solid var(--fill-color);\n",
              "    border-color: transparent;\n",
              "    border-bottom-color: var(--fill-color);\n",
              "    animation:\n",
              "      spin 1s steps(1) infinite;\n",
              "  }\n",
              "\n",
              "  @keyframes spin {\n",
              "    0% {\n",
              "      border-color: transparent;\n",
              "      border-bottom-color: var(--fill-color);\n",
              "      border-left-color: var(--fill-color);\n",
              "    }\n",
              "    20% {\n",
              "      border-color: transparent;\n",
              "      border-left-color: var(--fill-color);\n",
              "      border-top-color: var(--fill-color);\n",
              "    }\n",
              "    30% {\n",
              "      border-color: transparent;\n",
              "      border-left-color: var(--fill-color);\n",
              "      border-top-color: var(--fill-color);\n",
              "      border-right-color: var(--fill-color);\n",
              "    }\n",
              "    40% {\n",
              "      border-color: transparent;\n",
              "      border-right-color: var(--fill-color);\n",
              "      border-top-color: var(--fill-color);\n",
              "    }\n",
              "    60% {\n",
              "      border-color: transparent;\n",
              "      border-right-color: var(--fill-color);\n",
              "    }\n",
              "    80% {\n",
              "      border-color: transparent;\n",
              "      border-right-color: var(--fill-color);\n",
              "      border-bottom-color: var(--fill-color);\n",
              "    }\n",
              "    90% {\n",
              "      border-color: transparent;\n",
              "      border-bottom-color: var(--fill-color);\n",
              "    }\n",
              "  }\n",
              "</style>\n",
              "\n",
              "  <script>\n",
              "    async function quickchart(key) {\n",
              "      const quickchartButtonEl =\n",
              "        document.querySelector('#' + key + ' button');\n",
              "      quickchartButtonEl.disabled = true;  // To prevent multiple clicks.\n",
              "      quickchartButtonEl.classList.add('colab-df-spinner');\n",
              "      try {\n",
              "        const charts = await google.colab.kernel.invokeFunction(\n",
              "            'suggestCharts', [key], {});\n",
              "      } catch (error) {\n",
              "        console.error('Error during call to suggestCharts:', error);\n",
              "      }\n",
              "      quickchartButtonEl.classList.remove('colab-df-spinner');\n",
              "      quickchartButtonEl.classList.add('colab-df-quickchart-complete');\n",
              "    }\n",
              "    (() => {\n",
              "      let quickchartButtonEl =\n",
              "        document.querySelector('#df-97e4bd5e-b436-44de-b693-d253df3be4ea button');\n",
              "      quickchartButtonEl.style.display =\n",
              "        google.colab.kernel.accessAllowed ? 'block' : 'none';\n",
              "    })();\n",
              "  </script>\n",
              "</div>\n",
              "\n",
              "  <div id=\"id_ac6e224f-ccb9-4436-a350-a1faa97454f4\">\n",
              "    <style>\n",
              "      .colab-df-generate {\n",
              "        background-color: #E8F0FE;\n",
              "        border: none;\n",
              "        border-radius: 50%;\n",
              "        cursor: pointer;\n",
              "        display: none;\n",
              "        fill: #1967D2;\n",
              "        height: 32px;\n",
              "        padding: 0 0 0 0;\n",
              "        width: 32px;\n",
              "      }\n",
              "\n",
              "      .colab-df-generate:hover {\n",
              "        background-color: #E2EBFA;\n",
              "        box-shadow: 0px 1px 2px rgba(60, 64, 67, 0.3), 0px 1px 3px 1px rgba(60, 64, 67, 0.15);\n",
              "        fill: #174EA6;\n",
              "      }\n",
              "\n",
              "      [theme=dark] .colab-df-generate {\n",
              "        background-color: #3B4455;\n",
              "        fill: #D2E3FC;\n",
              "      }\n",
              "\n",
              "      [theme=dark] .colab-df-generate:hover {\n",
              "        background-color: #434B5C;\n",
              "        box-shadow: 0px 1px 3px 1px rgba(0, 0, 0, 0.15);\n",
              "        filter: drop-shadow(0px 1px 2px rgba(0, 0, 0, 0.3));\n",
              "        fill: #FFFFFF;\n",
              "      }\n",
              "    </style>\n",
              "    <button class=\"colab-df-generate\" onclick=\"generateWithVariable('results_df')\"\n",
              "            title=\"Generate code using this dataframe.\"\n",
              "            style=\"display:none;\">\n",
              "\n",
              "  <svg xmlns=\"http://www.w3.org/2000/svg\" height=\"24px\"viewBox=\"0 0 24 24\"\n",
              "       width=\"24px\">\n",
              "    <path d=\"M7,19H8.4L18.45,9,17,7.55,7,17.6ZM5,21V16.75L18.45,3.32a2,2,0,0,1,2.83,0l1.4,1.43a1.91,1.91,0,0,1,.58,1.4,1.91,1.91,0,0,1-.58,1.4L9.25,21ZM18.45,9,17,7.55Zm-12,3A5.31,5.31,0,0,0,4.9,8.1,5.31,5.31,0,0,0,1,6.5,5.31,5.31,0,0,0,4.9,4.9,5.31,5.31,0,0,0,6.5,1,5.31,5.31,0,0,0,8.1,4.9,5.31,5.31,0,0,0,12,6.5,5.46,5.46,0,0,0,6.5,12Z\"/>\n",
              "  </svg>\n",
              "    </button>\n",
              "    <script>\n",
              "      (() => {\n",
              "      const buttonEl =\n",
              "        document.querySelector('#id_ac6e224f-ccb9-4436-a350-a1faa97454f4 button.colab-df-generate');\n",
              "      buttonEl.style.display =\n",
              "        google.colab.kernel.accessAllowed ? 'block' : 'none';\n",
              "\n",
              "      buttonEl.onclick = () => {\n",
              "        google.colab.notebook.generateWithVariable('results_df');\n",
              "      }\n",
              "      })();\n",
              "    </script>\n",
              "  </div>\n",
              "\n",
              "    </div>\n",
              "  </div>\n"
            ],
            "application/vnd.google.colaboratory.intrinsic+json": {
              "type": "dataframe",
              "variable_name": "results_df",
              "summary": "{\n  \"name\": \"results_df\",\n  \"rows\": 6,\n  \"fields\": [\n    {\n      \"column\": \"num_checkers\",\n      \"properties\": {\n        \"dtype\": \"number\",\n        \"std\": 5,\n        \"min\": 18,\n        \"max\": 34,\n        \"num_unique_values\": 6,\n        \"samples\": [\n          22,\n          18,\n          34\n        ],\n        \"semantic_type\": \"\",\n        \"description\": \"\"\n      }\n    },\n    {\n      \"column\": \"avg_wait_time\",\n      \"properties\": {\n        \"dtype\": \"number\",\n        \"std\": 40.00864147391917,\n        \"min\": 22.250906321601114,\n        \"max\": 130.23540572342753,\n        \"num_unique_values\": 6,\n        \"samples\": [\n          104.99915841093306,\n          130.23540572342753,\n          22.250906321601114\n        ],\n        \"semantic_type\": \"\",\n        \"description\": \"\"\n      }\n    }\n  ]\n}"
            }
          },
          "metadata": {},
          "execution_count": 30
        }
      ]
    }
  ]
}