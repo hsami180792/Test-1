{
  "nbformat": 4,
  "nbformat_minor": 0,
  "metadata": {
    "colab": {
      "provenance": []
    },
    "kernelspec": {
      "name": "python3",
      "display_name": "Python 3"
    },
    "language_info": {
      "name": "python"
    }
  },
  "cells": [
    {
      "cell_type": "code",
      "execution_count": 8,
      "metadata": {
        "colab": {
          "base_uri": "https://localhost:8080/"
        },
        "id": "KrRR6v1OfYrL",
        "outputId": "a581d042-c547-48e6-9aef-d13a896f3940"
      },
      "outputs": [
        {
          "output_type": "stream",
          "name": "stdout",
          "text": [
            "Requirement already satisfied: simpy in /usr/local/lib/python3.10/dist-packages (4.1.1)\n"
          ]
        }
      ],
      "source": [
        "!pip install simpy"
      ]
    },
    {
      "cell_type": "code",
      "source": [
        "import simpy\n",
        "import random as rd\n",
        "import numpy as np\n",
        "import pandas as pd\n",
        "import statistics as stat"
      ],
      "metadata": {
        "id": "BNG8678Pf8iA"
      },
      "execution_count": 9,
      "outputs": []
    },
    {
      "cell_type": "code",
      "source": [
        "check_ls = []\n",
        "scan_ls = []\n",
        "waitingTime = []"
      ],
      "metadata": {
        "id": "OY2Mm40zgFb4"
      },
      "execution_count": 10,
      "outputs": []
    },
    {
      "cell_type": "code",
      "source": [
        "for a in range(25, 36):\n",
        "  for b in range(25, 26):\n",
        "    print(\"Checkers: %i\" % a)\n",
        "    print(\"Scanner: %i\" % b)\n",
        "    check_ls.append(a)\n",
        "    scan_ls.append(b)\n",
        "\n",
        "    numCheckers = a\n",
        "    numScanners = b\n",
        "\n",
        "    arrRate = 50\n",
        "    checkRate = 0.75\n",
        "    scanRate = rd.uniform(0.5, 1)\n",
        "    runTime = 60 * 3\n",
        "    replications = 50\n",
        "\n",
        "    avgCheckTime = []\n",
        "    avgScanTime = []\n",
        "    avgWaitTime = []\n",
        "    avgSystemTime = []\n",
        "\n",
        "    class System(object):\n",
        "      def __init__(self, env):\n",
        "        self.env = env\n",
        "        self.checker = simpy.Resource(env, numCheckers)\n",
        "        self.scanner = []\n",
        "        for i in range(numScanners):\n",
        "          self.scanner.append(simpy.Resource(env, 1))\n",
        "\n",
        "      def check(self, passenger):\n",
        "        yield self.env.timeout(rd.expovariate(1.0/checkRate))\n",
        "\n",
        "      def scan(self,passenger):\n",
        "        yield self.env.timeout(scanRate)\n",
        "\n",
        "      def passenger(env, name, s):\n",
        "        global checkWait\n",
        "        global scanWait\n",
        "        global sysTime\n",
        "        global totThrough\n",
        "\n",
        "        timeArrive = env.now\n",
        "\n",
        "        with s.checker.request() as request:\n",
        "          yield request\n",
        "          tIn = env.now\n",
        "          yield env.process(s.check(name))\n",
        "          tOut = env.now\n",
        "          checkTime.append(tOut - tIn)\n",
        "\n",
        "        minq = 0\n",
        "        for i in range(1, numScanners):\n",
        "          if (len(s.scanner[i].queue) < len(s.scanner[minq].queue)):\n",
        "            minq = i\n",
        "\n",
        "        with s.scanner[minq].request() as request:\n",
        "          yield request\n",
        "          tIn = env.now\n",
        "          yield env.process(s.scan(name))\n",
        "          tOut = env.now\n",
        "          scanTime.append(tOut - tIn)\n",
        "\n",
        "        timeLeave = env.now\n",
        "        sysTime.append(timeLeave - timeArrive)\n",
        "        totThrough += 1\n",
        "\n",
        "        def setup(env):\n",
        "          i = 0\n",
        "          s = System(env)\n",
        "          while True:\n",
        "            yield env.timeout(rd.expovariate(arrRate))\n",
        "            i += 1\n",
        "            env.process(passenger(env, \"Passenger %d\" % i, s))\n",
        "\n",
        "        for i in range(replications):\n",
        "          rd.seed(i)\n",
        "\n",
        "          env = simpy.Environment()\n",
        "\n",
        "          totThrough = 0\n",
        "          checkTime = []\n",
        "          scanTime = []\n",
        "          sysTime = []\n",
        "\n",
        "          env.process(setup(env))\n",
        "          env.run(until = runTime)\n",
        "\n",
        "        avgSystemTime.append(sum(sysTime[1:totThrough]) / totThrough)\n",
        "        avgCheckTime.append(sum(checkTime[1:totThrough]) / totThrough)\n",
        "        avgScanTime.append(sum(scanTime[1:totThrough]) / totThrough)\n",
        "        avgWaitTime.append(avgSystemTime[i] - avgCheckTime[i] - avgScanTime[i])\n",
        "\n",
        "    print('Average System Time = %.2f' % (sum(avgSystemTime) / replications))\n",
        "    print('Average Check Time = %.2f' % (sum(avgCheckTime) / replications))\n",
        "    print('Average Scan Time = %.2f' % (sum(avgWaitTime) / replications))\n",
        "    print('Average Wait Time = %.2f' % (sum(avgWaitTime) / replications))\n",
        "\n",
        "    waitingTime.append(sum(avgWaitTime) / replications)\n",
        "\n",
        "results = np.hstack((check_ls, scan_ls, waitingTime))\n",
        "\n",
        "\n",
        ""
      ],
      "metadata": {
        "colab": {
          "base_uri": "https://localhost:8080/"
        },
        "id": "-Qu76RVngOmI",
        "outputId": "e782d11e-34b4-4ed8-880d-dfa560270e56"
      },
      "execution_count": 22,
      "outputs": [
        {
          "output_type": "stream",
          "name": "stdout",
          "text": [
            "Checkers: 25\n",
            "Scanner: 25\n",
            "Average System Time = 0.00\n",
            "Average Check Time = 0.00\n",
            "Average Scan Time = 0.00\n",
            "Average Wait Time = 0.00\n",
            "Checkers: 26\n",
            "Scanner: 25\n",
            "Average System Time = 0.00\n",
            "Average Check Time = 0.00\n",
            "Average Scan Time = 0.00\n",
            "Average Wait Time = 0.00\n",
            "Checkers: 27\n",
            "Scanner: 25\n",
            "Average System Time = 0.00\n",
            "Average Check Time = 0.00\n",
            "Average Scan Time = 0.00\n",
            "Average Wait Time = 0.00\n",
            "Checkers: 28\n",
            "Scanner: 25\n",
            "Average System Time = 0.00\n",
            "Average Check Time = 0.00\n",
            "Average Scan Time = 0.00\n",
            "Average Wait Time = 0.00\n",
            "Checkers: 29\n",
            "Scanner: 25\n",
            "Average System Time = 0.00\n",
            "Average Check Time = 0.00\n",
            "Average Scan Time = 0.00\n",
            "Average Wait Time = 0.00\n",
            "Checkers: 30\n",
            "Scanner: 25\n",
            "Average System Time = 0.00\n",
            "Average Check Time = 0.00\n",
            "Average Scan Time = 0.00\n",
            "Average Wait Time = 0.00\n",
            "Checkers: 31\n",
            "Scanner: 25\n",
            "Average System Time = 0.00\n",
            "Average Check Time = 0.00\n",
            "Average Scan Time = 0.00\n",
            "Average Wait Time = 0.00\n",
            "Checkers: 32\n",
            "Scanner: 25\n",
            "Average System Time = 0.00\n",
            "Average Check Time = 0.00\n",
            "Average Scan Time = 0.00\n",
            "Average Wait Time = 0.00\n",
            "Checkers: 33\n",
            "Scanner: 25\n",
            "Average System Time = 0.00\n",
            "Average Check Time = 0.00\n",
            "Average Scan Time = 0.00\n",
            "Average Wait Time = 0.00\n",
            "Checkers: 34\n",
            "Scanner: 25\n",
            "Average System Time = 0.00\n",
            "Average Check Time = 0.00\n",
            "Average Scan Time = 0.00\n",
            "Average Wait Time = 0.00\n",
            "Checkers: 35\n",
            "Scanner: 25\n",
            "Average System Time = 0.00\n",
            "Average Check Time = 0.00\n",
            "Average Scan Time = 0.00\n",
            "Average Wait Time = 0.00\n"
          ]
        }
      ]
    }
  ]
}